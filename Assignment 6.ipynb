{
 "cells": [
  {
   "cell_type": "code",
   "execution_count": null,
   "id": "70558e2a",
   "metadata": {},
   "outputs": [],
   "source": [
    "1.Escape characters represent characters in string values that would otherwise be difficult or impossible to type into code.\n",
    "\n",
    "2.\\n is a newline; \\t is a tab.\n",
    "\n",
    "3.The \\\\ escape character will represent a backslash character.\n",
    "\n",
    "4.The single quote in Howl's is fine because you’ve used double quotes to mark the beginning and end of the string.\n",
    "\n",
    "5.Multiline strings allow you to use newlines in strings without the \\n escape character.\n",
    "\n",
    "6.The expressions evaluate to the following:\n",
    "\n",
    "'e'\n",
    "\n",
    "'Hello'\n",
    "\n",
    "'Hello'\n",
    "\n",
    "'lo world!\n",
    "\n",
    "7.The expressions evaluate to the following:\n",
    "\n",
    "'HELLO'\n",
    "\n",
    "True\n",
    "\n",
    "'hello'\n",
    "\n",
    "8.The expressions evaluate to the following:\n",
    "\n",
    "['Remember,', 'remember,', 'the', 'fifth', 'of', 'November.']\n",
    "\n",
    "'There-can-be-only-one.'\n",
    "\n",
    "9.The rjust(), ljust(), and center() string methods, respectively\n",
    "\n",
    "10.The lstrip() and rstrip() methods remove whitespace from the left and right ends of a string, respectively."
   ]
  }
 ],
 "metadata": {
  "kernelspec": {
   "display_name": "Python 3",
   "language": "python",
   "name": "python3"
  },
  "language_info": {
   "codemirror_mode": {
    "name": "ipython",
    "version": 3
   },
   "file_extension": ".py",
   "mimetype": "text/x-python",
   "name": "python",
   "nbconvert_exporter": "python",
   "pygments_lexer": "ipython3",
   "version": "3.8.8"
  }
 },
 "nbformat": 4,
 "nbformat_minor": 5
}
